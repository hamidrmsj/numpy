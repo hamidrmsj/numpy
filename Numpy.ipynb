{
  "nbformat": 4,
  "nbformat_minor": 0,
  "metadata": {
    "colab": {
      "name": "Numpy.ipynb",
      "provenance": [],
      "include_colab_link": true
    },
    "kernelspec": {
      "name": "python3",
      "display_name": "Python 3"
    },
    "language_info": {
      "name": "python"
    }
  },
  "cells": [
    {
      "cell_type": "markdown",
      "metadata": {
        "id": "view-in-github",
        "colab_type": "text"
      },
      "source": [
        "<a href=\"https://colab.research.google.com/github/hamidrmsj/numpy/blob/1st-codes/Numpy.ipynb\" target=\"_parent\"><img src=\"https://colab.research.google.com/assets/colab-badge.svg\" alt=\"Open In Colab\"/></a>"
      ]
    },
    {
      "cell_type": "markdown",
      "metadata": {
        "id": "nYal3aPRYdFL"
      },
      "source": [
        "# **Create Arrays**"
      ]
    },
    {
      "cell_type": "code",
      "metadata": {
        "id": "dqtFetEQV8SB",
        "colab": {
          "base_uri": "https://localhost:8080/"
        },
        "outputId": "20ad08e7-1331-48d5-de6f-4270aa2e948a"
      },
      "source": [
        "# create array\n",
        "from numpy import array\n",
        "# create array\n",
        "l = [1.0, 2.0, 3.0]\n",
        "a = array(l)\n",
        "# display array\n",
        "print(a)\n",
        "# display array shape\n",
        "print(a.shape)\n",
        "# display array data type\n",
        "print(a.dtype)"
      ],
      "execution_count": 1,
      "outputs": [
        {
          "output_type": "stream",
          "name": "stdout",
          "text": [
            "[1. 2. 3.]\n",
            "(3,)\n",
            "float64\n"
          ]
        }
      ]
    },
    {
      "cell_type": "code",
      "metadata": {
        "colab": {
          "base_uri": "https://localhost:8080/"
        },
        "id": "zZ72ZqHBXoZ7",
        "outputId": "f4cad0f1-aa04-46db-aeba-ee2d490edc86"
      },
      "source": [
        "# create empty array\n",
        "from numpy import empty\n",
        "a = empty([3,3])\n",
        "print(a)"
      ],
      "execution_count": 3,
      "outputs": [
        {
          "output_type": "stream",
          "name": "stdout",
          "text": [
            "[[4.64611477e-310 3.60739284e-313 1.38338381e-322]\n",
            " [4.64611477e-310 0.00000000e+000 0.00000000e+000]\n",
            " [4.94065646e-323 0.00000000e+000 0.00000000e+000]]\n"
          ]
        }
      ]
    },
    {
      "cell_type": "code",
      "metadata": {
        "colab": {
          "base_uri": "https://localhost:8080/"
        },
        "id": "H8HOYJ-bXorR",
        "outputId": "5ab1317d-6d12-49ab-edda-eb0240ee7c72"
      },
      "source": [
        "# create zero array\n",
        "from numpy import zeros\n",
        "a = zeros([3,5])\n",
        "print(a)"
      ],
      "execution_count": 4,
      "outputs": [
        {
          "output_type": "stream",
          "name": "stdout",
          "text": [
            "[[0. 0. 0. 0. 0.]\n",
            " [0. 0. 0. 0. 0.]\n",
            " [0. 0. 0. 0. 0.]]\n"
          ]
        }
      ]
    },
    {
      "cell_type": "code",
      "metadata": {
        "colab": {
          "base_uri": "https://localhost:8080/"
        },
        "id": "z8GgZznOX3rw",
        "outputId": "74d25e36-7020-47ea-ae65-3e0818438ff5"
      },
      "source": [
        "# create one array\n",
        "from numpy import ones\n",
        "a = ones([5])\n",
        "print(a)"
      ],
      "execution_count": 5,
      "outputs": [
        {
          "output_type": "stream",
          "name": "stdout",
          "text": [
            "[1. 1. 1. 1. 1.]\n"
          ]
        }
      ]
    },
    {
      "cell_type": "markdown",
      "metadata": {
        "id": "ouO-sNf7YnjZ"
      },
      "source": [
        "# **Combining Arrays**"
      ]
    },
    {
      "cell_type": "markdown",
      "metadata": {
        "id": "XQBoPwDPYvXB"
      },
      "source": [
        "**Vertical Stack**"
      ]
    },
    {
      "cell_type": "code",
      "metadata": {
        "colab": {
          "base_uri": "https://localhost:8080/"
        },
        "id": "yPk54iwZYWcn",
        "outputId": "3206a3e7-e868-4ead-b231-b858b2ea425d"
      },
      "source": [
        "# create array with vstack\n",
        "from numpy import array\n",
        "from numpy import vstack\n",
        "# create first array\n",
        "a1 = array([1,2,3])\n",
        "print(a1)\n",
        "# create second array\n",
        "a2 = array([4,5,6])\n",
        "print(a2)\n",
        "# vertical stack\n",
        "a3 = vstack((a1, a2))\n",
        "print(a3)\n",
        "print(a3.shape)"
      ],
      "execution_count": 7,
      "outputs": [
        {
          "output_type": "stream",
          "name": "stdout",
          "text": [
            "[1 2 3]\n",
            "[4 5 6]\n",
            "[[1 2 3]\n",
            " [4 5 6]]\n",
            "(2, 3)\n"
          ]
        }
      ]
    },
    {
      "cell_type": "markdown",
      "metadata": {
        "id": "Qu-3PIO5Z2ry"
      },
      "source": [
        "**Horizontal Stack**"
      ]
    },
    {
      "cell_type": "code",
      "metadata": {
        "colab": {
          "base_uri": "https://localhost:8080/"
        },
        "id": "nDf-aMWqZorW",
        "outputId": "0182493e-e97f-460c-dbc4-d5453dba9413"
      },
      "source": [
        "# create array with hstack\n",
        "from numpy import array\n",
        "from numpy import hstack\n",
        "# create first array\n",
        "a1 = array([1,2,3])\n",
        "print(a1)\n",
        "# create second array\n",
        "a2 = array([4,5,6])\n",
        "print(a2)\n",
        "# create horizontal stack\n",
        "a3 = hstack((a1, a2))\n",
        "print(a3)\n",
        "print(a3.shape)"
      ],
      "execution_count": 8,
      "outputs": [
        {
          "output_type": "stream",
          "name": "stdout",
          "text": [
            "[1 2 3]\n",
            "[4 5 6]\n",
            "[1 2 3 4 5 6]\n",
            "(6,)\n"
          ]
        }
      ]
    },
    {
      "cell_type": "markdown",
      "metadata": {
        "id": "AlyJaVUZbr_p"
      },
      "source": [
        "# **List to Arrays**"
      ]
    },
    {
      "cell_type": "markdown",
      "metadata": {
        "id": "yZ7SFaMncyJ2"
      },
      "source": [
        "**One-Dimensional List to Array**"
      ]
    },
    {
      "cell_type": "code",
      "metadata": {
        "colab": {
          "base_uri": "https://localhost:8080/"
        },
        "id": "KAkCZZl7cadJ",
        "outputId": "9bbcbd6d-768e-4bef-9bb0-63e822ada0b5"
      },
      "source": [
        "# create one-dimensional array\n",
        "from numpy import array\n",
        "# list of data\n",
        "data = [11, 22, 33, 44, 55]\n",
        "# array of data\n",
        "data = array(data)\n",
        "print(data)\n",
        "print(type(data))"
      ],
      "execution_count": 9,
      "outputs": [
        {
          "output_type": "stream",
          "name": "stdout",
          "text": [
            "[11 22 33 44 55]\n",
            "<class 'numpy.ndarray'>\n"
          ]
        }
      ]
    },
    {
      "cell_type": "markdown",
      "metadata": {
        "id": "ItOJnWAucwDn"
      },
      "source": [
        "**Two-Dimensional List of Lists to Array**"
      ]
    },
    {
      "cell_type": "code",
      "metadata": {
        "colab": {
          "base_uri": "https://localhost:8080/"
        },
        "id": "ZoO3d1frcayg",
        "outputId": "c38cdad5-16dd-4556-bf4a-c861c9c7cbd4"
      },
      "source": [
        "# create two-dimensional array\n",
        "from numpy import array\n",
        "# list of data\n",
        "data = [[11, 22],\n",
        "[33, 44],\n",
        "[55, 66]]\n",
        "# array of data\n",
        "data = array(data)\n",
        "print(data)\n",
        "print(type(data))"
      ],
      "execution_count": 10,
      "outputs": [
        {
          "output_type": "stream",
          "name": "stdout",
          "text": [
            "[[11 22]\n",
            " [33 44]\n",
            " [55 66]]\n",
            "<class 'numpy.ndarray'>\n"
          ]
        }
      ]
    },
    {
      "cell_type": "markdown",
      "metadata": {
        "id": "Rfc9WQfgGYCK"
      },
      "source": [
        "# **Array Indexing**"
      ]
    },
    {
      "cell_type": "markdown",
      "metadata": {
        "id": "wgTUat3yYuLn"
      },
      "source": [
        "**One-Dimensional Indexing**"
      ]
    },
    {
      "cell_type": "code",
      "metadata": {
        "colab": {
          "base_uri": "https://localhost:8080/"
        },
        "id": "6ie_U6lPGXbk",
        "outputId": "ec8760cc-5680-498e-bab6-28cc88f4793d"
      },
      "source": [
        "# index a one-dimensional array\n",
        "from numpy import array\n",
        "# define array\n",
        "data = array([11, 22, 33, 44, 55])\n",
        "# index data\n",
        "print(data[0])\n",
        "print(data[4])"
      ],
      "execution_count": 1,
      "outputs": [
        {
          "output_type": "stream",
          "name": "stdout",
          "text": [
            "11\n",
            "55\n"
          ]
        }
      ]
    },
    {
      "cell_type": "code",
      "metadata": {
        "colab": {
          "base_uri": "https://localhost:8080/",
          "height": 201
        },
        "id": "9FsRUn55Yx1Q",
        "outputId": "3fd7d75b-a113-43d1-b1b0-5a2a7e6d1ae4"
      },
      "source": [
        "# # index array out of bounds\n",
        "# from numpy import array\n",
        "# # define array\n",
        "# data = array([11, 22, 33, 44, 55])\n",
        "# # index data\n",
        "# print(data[5])"
      ],
      "execution_count": 2,
      "outputs": [
        {
          "output_type": "error",
          "ename": "IndexError",
          "evalue": "ignored",
          "traceback": [
            "\u001b[0;31m---------------------------------------------------------------------------\u001b[0m",
            "\u001b[0;31mIndexError\u001b[0m                                Traceback (most recent call last)",
            "\u001b[0;32m<ipython-input-2-aca45a7ead8f>\u001b[0m in \u001b[0;36m<module>\u001b[0;34m()\u001b[0m\n\u001b[1;32m      4\u001b[0m \u001b[0mdata\u001b[0m \u001b[0;34m=\u001b[0m \u001b[0marray\u001b[0m\u001b[0;34m(\u001b[0m\u001b[0;34m[\u001b[0m\u001b[0;36m11\u001b[0m\u001b[0;34m,\u001b[0m \u001b[0;36m22\u001b[0m\u001b[0;34m,\u001b[0m \u001b[0;36m33\u001b[0m\u001b[0;34m,\u001b[0m \u001b[0;36m44\u001b[0m\u001b[0;34m,\u001b[0m \u001b[0;36m55\u001b[0m\u001b[0;34m]\u001b[0m\u001b[0;34m)\u001b[0m\u001b[0;34m\u001b[0m\u001b[0;34m\u001b[0m\u001b[0m\n\u001b[1;32m      5\u001b[0m \u001b[0;31m# index data\u001b[0m\u001b[0;34m\u001b[0m\u001b[0;34m\u001b[0m\u001b[0;34m\u001b[0m\u001b[0m\n\u001b[0;32m----> 6\u001b[0;31m \u001b[0mprint\u001b[0m\u001b[0;34m(\u001b[0m\u001b[0mdata\u001b[0m\u001b[0;34m[\u001b[0m\u001b[0;36m5\u001b[0m\u001b[0;34m]\u001b[0m\u001b[0;34m)\u001b[0m\u001b[0;34m\u001b[0m\u001b[0;34m\u001b[0m\u001b[0m\n\u001b[0m",
            "\u001b[0;31mIndexError\u001b[0m: index 5 is out of bounds for axis 0 with size 5"
          ]
        }
      ]
    },
    {
      "cell_type": "code",
      "metadata": {
        "colab": {
          "base_uri": "https://localhost:8080/"
        },
        "id": "TIaNPsX-Y5Bv",
        "outputId": "6bee204e-25d8-4994-dfb8-09dc0ee25ff8"
      },
      "source": [
        "# negative array indexing\n",
        "from numpy import array\n",
        "# define array\n",
        "data = array([11, 22, 33, 44, 55])\n",
        "# index data\n",
        "print(data[-1])\n",
        "print(data[-5])"
      ],
      "execution_count": 3,
      "outputs": [
        {
          "output_type": "stream",
          "name": "stdout",
          "text": [
            "55\n",
            "11\n"
          ]
        }
      ]
    },
    {
      "cell_type": "markdown",
      "metadata": {
        "id": "Pl10F7acabqu"
      },
      "source": [
        "**Two-Dimensional Indexing**"
      ]
    },
    {
      "cell_type": "code",
      "metadata": {
        "colab": {
          "base_uri": "https://localhost:8080/"
        },
        "id": "zpDzrGTeZDMk",
        "outputId": "d8d92d4c-2420-44e4-a121-c58cdc32d8c0"
      },
      "source": [
        "# index two-dimensional array\n",
        "from numpy import array\n",
        "# define array\n",
        "data = array([\n",
        "[11, 22],\n",
        "[33, 44],\n",
        "[55, 66]])\n",
        "# index data\n",
        "print(data[0,0])"
      ],
      "execution_count": 4,
      "outputs": [
        {
          "output_type": "stream",
          "name": "stdout",
          "text": [
            "11\n"
          ]
        }
      ]
    },
    {
      "cell_type": "code",
      "metadata": {
        "colab": {
          "base_uri": "https://localhost:8080/"
        },
        "id": "4uFA9TIkan3k",
        "outputId": "424cc136-97ba-4eac-ea92-5c7c16468d3d"
      },
      "source": [
        "# index row of two-dimensional array\n",
        "from numpy import array\n",
        "# define array\n",
        "data = array([\n",
        "[11, 22],\n",
        "[33, 44],\n",
        "[55, 66]])\n",
        "# index data\n",
        "print(data[0,])"
      ],
      "execution_count": 5,
      "outputs": [
        {
          "output_type": "stream",
          "name": "stdout",
          "text": [
            "[11 22]\n"
          ]
        }
      ]
    },
    {
      "cell_type": "markdown",
      "metadata": {
        "id": "OZgbYA3vgy_c"
      },
      "source": [
        "# **Array Reshaping**"
      ]
    },
    {
      "cell_type": "markdown",
      "metadata": {
        "id": "mm8nGwrKjbfZ"
      },
      "source": [
        "**Data Shape**"
      ]
    },
    {
      "cell_type": "code",
      "metadata": {
        "colab": {
          "base_uri": "https://localhost:8080/"
        },
        "id": "WTUQOnErdRYp",
        "outputId": "0875e713-a8f5-4c5e-9dd6-7f67f4308e7b"
      },
      "source": [
        "# row and column shape of two-dimensional array\n",
        "from numpy import array\n",
        "# list of data\n",
        "data = [[11, 22],\n",
        "[33, 44],\n",
        "[55, 66]]\n",
        "# array of data\n",
        "data = array(data)\n",
        "print('Rows: %d' % data.shape[0])\n",
        "print('Cols: %d' % data.shape[1])"
      ],
      "execution_count": 12,
      "outputs": [
        {
          "output_type": "stream",
          "name": "stdout",
          "text": [
            "Rows: 3\n",
            "Cols: 2\n"
          ]
        }
      ]
    },
    {
      "cell_type": "markdown",
      "metadata": {
        "id": "2FObGAR4h2WD"
      },
      "source": [
        "**Reshape 1D to 2D Array**"
      ]
    },
    {
      "cell_type": "code",
      "metadata": {
        "colab": {
          "base_uri": "https://localhost:8080/"
        },
        "id": "BV4MxQ47g4It",
        "outputId": "e3b90bbf-2c57-4126-e384-99f8e80c058c"
      },
      "source": [
        "# reshape 1D array to 2D\n",
        "from numpy import array\n",
        "# define array\n",
        "data = array([11, 22, 33, 44, 55])\n",
        "print(data.shape)\n",
        "# reshape\n",
        "data = data.reshape((data.shape[0], 1))\n",
        "print(data)\n",
        "print(data.shape)"
      ],
      "execution_count": 18,
      "outputs": [
        {
          "output_type": "stream",
          "name": "stdout",
          "text": [
            "(5,)\n",
            "[[11]\n",
            " [22]\n",
            " [33]\n",
            " [44]\n",
            " [55]]\n",
            "(5, 1)\n"
          ]
        }
      ]
    },
    {
      "cell_type": "markdown",
      "metadata": {
        "id": "PJyHepdniJsT"
      },
      "source": [
        "**Reshape 2D to 3D Array**"
      ]
    },
    {
      "cell_type": "code",
      "metadata": {
        "colab": {
          "base_uri": "https://localhost:8080/"
        },
        "id": "qemhZ3bjiBOx",
        "outputId": "b4ebf094-0906-449c-cd3b-7859d1a32e85"
      },
      "source": [
        "# reshape 2D array to 3D\n",
        "from numpy import array\n",
        "# list of data\n",
        "data = [[11, 22],\n",
        "[33, 44],\n",
        "[55, 66]]\n",
        "# array of data\n",
        "data = array(data)\n",
        "print(data.shape)\n",
        "# reshape\n",
        "data = data.reshape((data.shape[0], data.shape[1], 1))\n",
        "print(data.shape)"
      ],
      "execution_count": 19,
      "outputs": [
        {
          "output_type": "stream",
          "name": "stdout",
          "text": [
            "(3, 2)\n",
            "(3, 2, 1)\n"
          ]
        }
      ]
    },
    {
      "cell_type": "markdown",
      "metadata": {
        "id": "MNEOIvGMDKWl"
      },
      "source": [
        "# **Array Slicing**"
      ]
    },
    {
      "cell_type": "markdown",
      "metadata": {
        "id": "3QVqDaJeD0eV"
      },
      "source": [
        "**One-Dimensional Slicing**"
      ]
    },
    {
      "cell_type": "code",
      "metadata": {
        "colab": {
          "base_uri": "https://localhost:8080/"
        },
        "id": "JAeEDliGh-Q2",
        "outputId": "341d03cf-0ff1-4c24-9df7-f2294eb979ab"
      },
      "source": [
        "# slice a one-dimensional array\n",
        "from numpy import array\n",
        "# define array\n",
        "data = array([11, 22, 33, 44, 55])\n",
        "print(data[:])"
      ],
      "execution_count": 7,
      "outputs": [
        {
          "output_type": "stream",
          "name": "stdout",
          "text": [
            "[11 22 33 44 55]\n"
          ]
        }
      ]
    },
    {
      "cell_type": "code",
      "metadata": {
        "colab": {
          "base_uri": "https://localhost:8080/"
        },
        "id": "cDE716ehD9Au",
        "outputId": "de4b1bec-d12d-4528-8d05-f49e4e58aadc"
      },
      "source": [
        "# slice a subset of a one-dimensional array\n",
        "from numpy import array\n",
        "# define array\n",
        "data = array([11, 22, 33, 44, 55])\n",
        "print(data[0:1])"
      ],
      "execution_count": 11,
      "outputs": [
        {
          "output_type": "stream",
          "name": "stdout",
          "text": [
            "[11]\n"
          ]
        }
      ]
    },
    {
      "cell_type": "code",
      "metadata": {
        "colab": {
          "base_uri": "https://localhost:8080/"
        },
        "id": "7w4cN76LEckC",
        "outputId": "b3fb33bb-876f-4cab-f16d-ba24afabded7"
      },
      "source": [
        "# negative slicing of a one-dimensional array\n",
        "from numpy import array\n",
        "# define array\n",
        "data = array([11, 22, 33, 44, 55])\n",
        "print(data[-2:])"
      ],
      "execution_count": 9,
      "outputs": [
        {
          "output_type": "stream",
          "name": "stdout",
          "text": [
            "[44 55]\n"
          ]
        }
      ]
    },
    {
      "cell_type": "markdown",
      "metadata": {
        "id": "Lme0s4F7E2zG"
      },
      "source": [
        "**Two-Dimensional Slicing**"
      ]
    },
    {
      "cell_type": "markdown",
      "metadata": {
        "id": "Y5TygL05E61N"
      },
      "source": [
        "Split Input and Output Features"
      ]
    },
    {
      "cell_type": "code",
      "metadata": {
        "colab": {
          "base_uri": "https://localhost:8080/"
        },
        "id": "DG-vM_TyEnz5",
        "outputId": "d207dcf1-b49c-4c3c-9932-b237ecaa416c"
      },
      "source": [
        "# split input and output data\n",
        "from numpy import array\n",
        "# define array\n",
        "data = array([\n",
        "[11, 22, 33],\n",
        "[44, 55, 66],\n",
        "[77, 88, 99]])\n",
        "# separate data\n",
        "X, y = data[:, :-1], data[:, -1]\n",
        "print(X)\n",
        "print(y)"
      ],
      "execution_count": 12,
      "outputs": [
        {
          "output_type": "stream",
          "name": "stdout",
          "text": [
            "[[11 22]\n",
            " [44 55]\n",
            " [77 88]]\n",
            "[33 66 99]\n"
          ]
        }
      ]
    },
    {
      "cell_type": "markdown",
      "metadata": {
        "id": "uuSawgF2FrGs"
      },
      "source": [
        "Split Train and Test Rows"
      ]
    },
    {
      "cell_type": "code",
      "metadata": {
        "colab": {
          "base_uri": "https://localhost:8080/"
        },
        "id": "hNd95rFMFYHB",
        "outputId": "ee03c046-3765-4b53-b992-ddfc08eeb7f1"
      },
      "source": [
        "# split train and test data\n",
        "from numpy import array\n",
        "# define array\n",
        "data = array([\n",
        "[11, 22, 33],\n",
        "[44, 55, 66],\n",
        "[77, 88, 99]])\n",
        "# separate data\n",
        "split = 2\n",
        "train,test = data[:split,:],data[split:,:]\n",
        "print(train)\n",
        "print(test)"
      ],
      "execution_count": 13,
      "outputs": [
        {
          "output_type": "stream",
          "name": "stdout",
          "text": [
            "[[11 22 33]\n",
            " [44 55 66]]\n",
            "[[77 88 99]]\n"
          ]
        }
      ]
    },
    {
      "cell_type": "code",
      "metadata": {
        "id": "u7zAeh8oF8NR"
      },
      "source": [
        ""
      ],
      "execution_count": null,
      "outputs": []
    }
  ]
}