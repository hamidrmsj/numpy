{
  "nbformat": 4,
  "nbformat_minor": 0,
  "metadata": {
    "colab": {
      "name": "Numpy.ipynb",
      "provenance": [],
      "include_colab_link": true
    },
    "kernelspec": {
      "name": "python3",
      "display_name": "Python 3"
    },
    "language_info": {
      "name": "python"
    }
  },
  "cells": [
    {
      "cell_type": "markdown",
      "metadata": {
        "id": "view-in-github",
        "colab_type": "text"
      },
      "source": [
        "<a href=\"https://colab.research.google.com/github/hamidrmsj/numpy/blob/1st-codes/Numpy.ipynb\" target=\"_parent\"><img src=\"https://colab.research.google.com/assets/colab-badge.svg\" alt=\"Open In Colab\"/></a>"
      ]
    },
    {
      "cell_type": "markdown",
      "metadata": {
        "id": "nYal3aPRYdFL"
      },
      "source": [
        "# **Create Arrays**"
      ]
    },
    {
      "cell_type": "code",
      "metadata": {
        "id": "dqtFetEQV8SB",
        "colab": {
          "base_uri": "https://localhost:8080/"
        },
        "outputId": "20ad08e7-1331-48d5-de6f-4270aa2e948a"
      },
      "source": [
        "# create array\n",
        "from numpy import array\n",
        "# create array\n",
        "l = [1.0, 2.0, 3.0]\n",
        "a = array(l)\n",
        "# display array\n",
        "print(a)\n",
        "# display array shape\n",
        "print(a.shape)\n",
        "# display array data type\n",
        "print(a.dtype)"
      ],
      "execution_count": 1,
      "outputs": [
        {
          "output_type": "stream",
          "name": "stdout",
          "text": [
            "[1. 2. 3.]\n",
            "(3,)\n",
            "float64\n"
          ]
        }
      ]
    },
    {
      "cell_type": "code",
      "metadata": {
        "colab": {
          "base_uri": "https://localhost:8080/"
        },
        "id": "zZ72ZqHBXoZ7",
        "outputId": "f4cad0f1-aa04-46db-aeba-ee2d490edc86"
      },
      "source": [
        "# create empty array\n",
        "from numpy import empty\n",
        "a = empty([3,3])\n",
        "print(a)"
      ],
      "execution_count": 3,
      "outputs": [
        {
          "output_type": "stream",
          "name": "stdout",
          "text": [
            "[[4.64611477e-310 3.60739284e-313 1.38338381e-322]\n",
            " [4.64611477e-310 0.00000000e+000 0.00000000e+000]\n",
            " [4.94065646e-323 0.00000000e+000 0.00000000e+000]]\n"
          ]
        }
      ]
    },
    {
      "cell_type": "code",
      "metadata": {
        "colab": {
          "base_uri": "https://localhost:8080/"
        },
        "id": "H8HOYJ-bXorR",
        "outputId": "5ab1317d-6d12-49ab-edda-eb0240ee7c72"
      },
      "source": [
        "# create zero array\n",
        "from numpy import zeros\n",
        "a = zeros([3,5])\n",
        "print(a)"
      ],
      "execution_count": 4,
      "outputs": [
        {
          "output_type": "stream",
          "name": "stdout",
          "text": [
            "[[0. 0. 0. 0. 0.]\n",
            " [0. 0. 0. 0. 0.]\n",
            " [0. 0. 0. 0. 0.]]\n"
          ]
        }
      ]
    },
    {
      "cell_type": "code",
      "metadata": {
        "colab": {
          "base_uri": "https://localhost:8080/"
        },
        "id": "z8GgZznOX3rw",
        "outputId": "74d25e36-7020-47ea-ae65-3e0818438ff5"
      },
      "source": [
        "# create one array\n",
        "from numpy import ones\n",
        "a = ones([5])\n",
        "print(a)"
      ],
      "execution_count": 5,
      "outputs": [
        {
          "output_type": "stream",
          "name": "stdout",
          "text": [
            "[1. 1. 1. 1. 1.]\n"
          ]
        }
      ]
    },
    {
      "cell_type": "markdown",
      "metadata": {
        "id": "ouO-sNf7YnjZ"
      },
      "source": [
        "# **Combining Arrays**"
      ]
    },
    {
      "cell_type": "markdown",
      "metadata": {
        "id": "XQBoPwDPYvXB"
      },
      "source": [
        "**Vertical Stack**"
      ]
    },
    {
      "cell_type": "code",
      "metadata": {
        "colab": {
          "base_uri": "https://localhost:8080/"
        },
        "id": "yPk54iwZYWcn",
        "outputId": "3206a3e7-e868-4ead-b231-b858b2ea425d"
      },
      "source": [
        "# create array with vstack\n",
        "from numpy import array\n",
        "from numpy import vstack\n",
        "# create first array\n",
        "a1 = array([1,2,3])\n",
        "print(a1)\n",
        "# create second array\n",
        "a2 = array([4,5,6])\n",
        "print(a2)\n",
        "# vertical stack\n",
        "a3 = vstack((a1, a2))\n",
        "print(a3)\n",
        "print(a3.shape)"
      ],
      "execution_count": 7,
      "outputs": [
        {
          "output_type": "stream",
          "name": "stdout",
          "text": [
            "[1 2 3]\n",
            "[4 5 6]\n",
            "[[1 2 3]\n",
            " [4 5 6]]\n",
            "(2, 3)\n"
          ]
        }
      ]
    },
    {
      "cell_type": "markdown",
      "metadata": {
        "id": "Qu-3PIO5Z2ry"
      },
      "source": [
        "**Horizontal Stack**"
      ]
    },
    {
      "cell_type": "code",
      "metadata": {
        "colab": {
          "base_uri": "https://localhost:8080/"
        },
        "id": "nDf-aMWqZorW",
        "outputId": "0182493e-e97f-460c-dbc4-d5453dba9413"
      },
      "source": [
        "# create array with hstack\n",
        "from numpy import array\n",
        "from numpy import hstack\n",
        "# create first array\n",
        "a1 = array([1,2,3])\n",
        "print(a1)\n",
        "# create second array\n",
        "a2 = array([4,5,6])\n",
        "print(a2)\n",
        "# create horizontal stack\n",
        "a3 = hstack((a1, a2))\n",
        "print(a3)\n",
        "print(a3.shape)"
      ],
      "execution_count": 8,
      "outputs": [
        {
          "output_type": "stream",
          "name": "stdout",
          "text": [
            "[1 2 3]\n",
            "[4 5 6]\n",
            "[1 2 3 4 5 6]\n",
            "(6,)\n"
          ]
        }
      ]
    },
    {
      "cell_type": "markdown",
      "metadata": {
        "id": "AlyJaVUZbr_p"
      },
      "source": [
        "# **List to Arrays**"
      ]
    }
  ]
}